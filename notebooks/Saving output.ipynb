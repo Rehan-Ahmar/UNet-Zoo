{
 "cells": [
  {
   "cell_type": "code",
   "execution_count": 3,
   "metadata": {},
   "outputs": [],
   "source": [
    "import argparse\n",
    "from timeit import default_timer as timer\n",
    "from tqdm import tqdm\n",
    "import numpy as np\n",
    "import matplotlib\n",
    "import matplotlib.pyplot as plt\n",
    "matplotlib.use('Agg')\n",
    "\n",
    "import torch\n",
    "import torch.optim as optim\n",
    "from torch.autograd import Variable\n",
    "from torch.utils.data import DataLoader, random_split\n",
    "from torchvision.utils import save_image\n",
    "import torchvision.transforms as tr\n",
    "\n",
    "from data import BraTSDatasetUnet, TestDataset, BraTSDatasetLSTM\n",
    "from losses import DICELossMultiClass\n",
    "from models import UNet\n"
   ]
  },
  {
   "cell_type": "code",
   "execution_count": 93,
   "metadata": {},
   "outputs": [],
   "source": [
    "model = UNet(num_channels=1, num_classes=2)\n",
    "criterion = DICELossMultiClass()"
   ]
  },
  {
   "cell_type": "code",
   "execution_count": 94,
   "metadata": {},
   "outputs": [
    {
     "name": "stdout",
     "output_type": "stream",
     "text": [
      "(424, 548)\n",
      "(424, 550)\n",
      "(424, 550)\n",
      "(408, 552)\n",
      "(412, 559)\n",
      "(640, 833)\n",
      "(424, 549)\n",
      "(420, 549)\n",
      "(420, 549)\n",
      "(432, 550)\n",
      "(432, 550)\n",
      "(424, 549)\n",
      "(636, 829)\n",
      "[(424, 548), (424, 550), (424, 550), (408, 552), (412, 559), (640, 833), (424, 549), (420, 549), (420, 549), (432, 550), (432, 550), (424, 549), (636, 829)]\n"
     ]
    }
   ],
   "source": [
    "from PIL import Image\n",
    "import os\n",
    "\n",
    "dir_path = './Data/images/'\n",
    "sizes = []\n",
    "for f in os.listdir(dir_path):\n",
    "    im = Image.open(os.path.join(dir_path, f))\n",
    "    print(im.size)\n",
    "    sizes.append(im.size)\n",
    "print(sizes)"
   ]
  },
  {
   "cell_type": "code",
   "execution_count": null,
   "metadata": {},
   "outputs": [],
   "source": []
  },
  {
   "cell_type": "code",
   "execution_count": null,
   "metadata": {},
   "outputs": [],
   "source": []
  },
  {
   "cell_type": "code",
   "execution_count": 125,
   "metadata": {},
   "outputs": [],
   "source": [
    "def test_only(model, loader, criterion, cuda=False):\n",
    "    model.eval()\n",
    "    for batch_idx, image in tqdm(enumerate(loader)):\n",
    "        if cuda:\n",
    "            image = image.cuda()\n",
    "        with torch.no_grad():\n",
    "            image = Variable(image)\n",
    "            pred = model(image)\n",
    "            maxes, out = torch.max(pred, 1, keepdim=True)\n",
    "\n",
    "        for i, output in enumerate(out):\n",
    "            back_img = tr.ToPILImage()(output.type(torch.float32))  \n",
    "            index = batch_idx*4 + i\n",
    "            back_img = back_img.resize(sizes[index])\n",
    "            back_img.save('./output/single/out-{}.png'.format(index))\n",
    "        save_image(image, './output/images/images-batch-{}.png'.format(batch_idx))\n",
    "        save_image(out, './output/predictions/outputs-batch-{}.png'.format(batch_idx))"
   ]
  },
  {
   "cell_type": "code",
   "execution_count": 126,
   "metadata": {},
   "outputs": [
    {
     "name": "stdout",
     "output_type": "stream",
     "text": [
      "Test Data :  13\n"
     ]
    },
    {
     "name": "stderr",
     "output_type": "stream",
     "text": [
      "\n",
      "\n",
      "\n",
      "\n",
      "\n",
      "\n",
      "\n",
      "\n",
      "\n",
      "\n",
      "\n",
      "\n",
      "\n",
      "\n",
      "\n",
      "\n",
      "\n",
      "\n",
      "\n",
      "\n",
      "\n",
      "\n",
      "0it [00:00, ?it/s]"
     ]
    },
    {
     "name": "stdout",
     "output_type": "stream",
     "text": [
      "[0. 1.]\n",
      "[0. 1.]\n",
      "[0. 1.]\n",
      "[0. 1.]\n"
     ]
    },
    {
     "name": "stderr",
     "output_type": "stream",
     "text": [
      "\n",
      "\n",
      "\n",
      "\n",
      "\n",
      "\n",
      "\n",
      "\n",
      "\n",
      "\n",
      "\n",
      "\n",
      "\n",
      "\n",
      "\n",
      "\n",
      "\n",
      "\n",
      "\n",
      "\n",
      "\n",
      "\n",
      "1it [00:16, 16.06s/it]"
     ]
    },
    {
     "name": "stdout",
     "output_type": "stream",
     "text": [
      "[0. 1.]\n",
      "[0. 1.]\n",
      "[0. 1.]\n",
      "[0. 1.]\n"
     ]
    },
    {
     "name": "stderr",
     "output_type": "stream",
     "text": [
      "\n",
      "\n",
      "\n",
      "\n",
      "\n",
      "\n",
      "\n",
      "\n",
      "\n",
      "\n",
      "\n",
      "\n",
      "\n",
      "\n",
      "\n",
      "\n",
      "\n",
      "\n",
      "\n",
      "\n",
      "\n",
      "\n",
      "2it [00:29, 15.22s/it]"
     ]
    },
    {
     "name": "stdout",
     "output_type": "stream",
     "text": [
      "[0. 1.]\n",
      "[0. 1.]\n",
      "[0. 1.]\n",
      "[0. 1.]\n"
     ]
    },
    {
     "name": "stderr",
     "output_type": "stream",
     "text": [
      "\n",
      "\n",
      "\n",
      "\n",
      "\n",
      "\n",
      "\n",
      "\n",
      "\n",
      "\n",
      "\n",
      "\n",
      "\n",
      "\n",
      "\n",
      "\n",
      "\n",
      "\n",
      "\n",
      "\n",
      "\n",
      "\n",
      "3it [00:42, 14.59s/it]"
     ]
    },
    {
     "name": "stdout",
     "output_type": "stream",
     "text": [
      "[0. 1.]\n"
     ]
    },
    {
     "name": "stderr",
     "output_type": "stream",
     "text": [
      "\n",
      "\n",
      "\n",
      "\n",
      "\n",
      "\n",
      "\n",
      "\n",
      "\n",
      "\n",
      "\n",
      "\n",
      "\n",
      "\n",
      "\n",
      "\n",
      "\n",
      "\n",
      "\n",
      "\n",
      "\n",
      "\n",
      "4it [00:46, 11.44s/it]"
     ]
    }
   ],
   "source": [
    "test_dataset = TestDataset('./Data/', im_size=[256, 256], transform=tr.ToTensor())\n",
    "test_loader = DataLoader(test_dataset, batch_size=4, shuffle=False, num_workers=1)\n",
    "print(\"Test Data : \", len(test_loader.dataset))\n",
    "model.load_state_dict(torch.load('unet-model-16-100-0.001', map_location='cpu'))\n",
    "test_only(model, test_loader, criterion)"
   ]
  },
  {
   "cell_type": "code",
   "execution_count": null,
   "metadata": {},
   "outputs": [],
   "source": []
  },
  {
   "cell_type": "code",
   "execution_count": null,
   "metadata": {},
   "outputs": [],
   "source": []
  },
  {
   "cell_type": "code",
   "execution_count": null,
   "metadata": {},
   "outputs": [],
   "source": []
  },
  {
   "cell_type": "code",
   "execution_count": null,
   "metadata": {},
   "outputs": [],
   "source": []
  },
  {
   "cell_type": "code",
   "execution_count": null,
   "metadata": {},
   "outputs": [],
   "source": []
  },
  {
   "cell_type": "code",
   "execution_count": 5,
   "metadata": {},
   "outputs": [],
   "source": [
    "import os\n",
    "import itertools"
   ]
  },
  {
   "cell_type": "code",
   "execution_count": 6,
   "metadata": {},
   "outputs": [],
   "source": [
    "images_list = []\n",
    "masks_list = []\n",
    "output_list = []\n",
    "\n",
    "for i in itertools.count():\n",
    "    if not os.path.isfile('./npy-files/out-files/OutMasks-batch-{}-images.npy'.format(i)):\n",
    "        break\n",
    "    outs = np.load('./npy-files/out-files/OutMasks-batch-{}-outs.npy'.format(i))\n",
    "    masks = np.load('./npy-files/out-files/OutMasks-batch-{}-masks.npy'.format(i))\n",
    "    images = np.load('./npy-files/out-files/OutMasks-batch-{}-images.npy'.format(i))\n",
    "    output_list.append(outs)\n",
    "    masks_list.append(masks)\n",
    "    images_list.append(images)"
   ]
  },
  {
   "cell_type": "code",
   "execution_count": 7,
   "metadata": {},
   "outputs": [
    {
     "data": {
      "text/plain": [
       "(1, 128, 128)"
      ]
     },
     "execution_count": 7,
     "metadata": {},
     "output_type": "execute_result"
    }
   ],
   "source": [
    "output_list[0][0].shape"
   ]
  },
  {
   "cell_type": "code",
   "execution_count": 8,
   "metadata": {},
   "outputs": [
    {
     "data": {
      "text/plain": [
       "array([[[0, 0, 0, ..., 0, 0, 0],\n",
       "        [0, 0, 0, ..., 0, 0, 0],\n",
       "        [0, 0, 0, ..., 0, 0, 0],\n",
       "        ...,\n",
       "        [0, 0, 0, ..., 0, 0, 0],\n",
       "        [0, 0, 0, ..., 0, 0, 0],\n",
       "        [0, 0, 0, ..., 0, 0, 0]]], dtype=int64)"
      ]
     },
     "execution_count": 8,
     "metadata": {},
     "output_type": "execute_result"
    }
   ],
   "source": [
    "output_list[0][0]"
   ]
  },
  {
   "cell_type": "code",
   "execution_count": 9,
   "metadata": {},
   "outputs": [
    {
     "data": {
      "text/plain": [
       "array([[[ True,  True,  True, ...,  True,  True,  True],\n",
       "        [ True,  True,  True, ...,  True,  True,  True],\n",
       "        [ True,  True,  True, ...,  True,  True,  True],\n",
       "        ...,\n",
       "        [ True,  True,  True, ...,  True,  True,  True],\n",
       "        [ True,  True,  True, ...,  True,  True,  True],\n",
       "        [ True,  True,  True, ...,  True,  True,  True]]])"
      ]
     },
     "execution_count": 9,
     "metadata": {},
     "output_type": "execute_result"
    }
   ],
   "source": [
    "output_list[0][0, :, :] == output_list[0][0]"
   ]
  },
  {
   "cell_type": "code",
   "execution_count": null,
   "metadata": {},
   "outputs": [],
   "source": [
    "#colorimg = np.ones((masks.shape[1], masks.shape[2], 3), dtype=np.float32) * 255\n",
    "#colors = np.asarray([(255, 0, 0), (0, 255, 0), (0, 0, 255)])"
   ]
  },
  {
   "cell_type": "code",
   "execution_count": null,
   "metadata": {},
   "outputs": [],
   "source": [
    "for i in range(len(images_list)):\n",
    "    for j in range(images_list[i].shape[0]):\n",
    "        np_image = images_list[i][j].transpose((1, 2, 0))\n",
    "        np_image = (np_image * 255).astype(np.uint8)\n",
    "        img = Image.fromarray(np_image, 'L')\n",
    "        img.save('./output/image-{}-{}.png'.format(i, j))\n",
    "        \n",
    "        np_mask = masks_list[i][j].transpose((1, 2, 0))\n",
    "        np_mask = (np_mask * 255).astype(np.uint8)\n",
    "        mask_img = Image.fromarray(np_mask, 'RGB')\n",
    "        mask_img.save('./output/mask-{}-{}.png'.format(i, j))\n",
    "        \n",
    "        np_out = 255 * np.squeeze(output_list[i][j]).astype('uint8')\n",
    "        out_img = Image.fromarray(np_out, 'L')\n",
    "        out_img.save('./output/out-{}-{}.png'.format(i, j))"
   ]
  },
  {
   "cell_type": "code",
   "execution_count": null,
   "metadata": {},
   "outputs": [],
   "source": []
  }
 ],
 "metadata": {
  "kernelspec": {
   "display_name": "pytorch_env",
   "language": "python",
   "name": "pytorch_env"
  },
  "language_info": {
   "codemirror_mode": {
    "name": "ipython",
    "version": 3
   },
   "file_extension": ".py",
   "mimetype": "text/x-python",
   "name": "python",
   "nbconvert_exporter": "python",
   "pygments_lexer": "ipython3",
   "version": "3.6.7"
  }
 },
 "nbformat": 4,
 "nbformat_minor": 2
}
