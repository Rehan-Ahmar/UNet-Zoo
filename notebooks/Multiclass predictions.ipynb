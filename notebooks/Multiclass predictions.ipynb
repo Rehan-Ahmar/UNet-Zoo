{
 "cells": [
  {
   "cell_type": "code",
   "execution_count": 35,
   "metadata": {},
   "outputs": [],
   "source": [
    "import argparse\n",
    "from timeit import default_timer as timer\n",
    "from tqdm import tqdm\n",
    "import numpy as np\n",
    "import matplotlib\n",
    "import matplotlib.pyplot as plt\n",
    "matplotlib.use('Agg')\n",
    "\n",
    "import torch\n",
    "import torch.optim as optim\n",
    "from torch.autograd import Variable\n",
    "from torch.utils.data import DataLoader, random_split\n",
    "from torchvision.utils import save_image\n",
    "import torchvision.transforms as tr\n",
    "\n",
    "from data import BraTSDatasetUnet, TestDataset, BraTSDatasetLSTM\n",
    "from losses import DICELossMultiClass\n",
    "from models import UNet\n",
    "\n",
    "import os\n",
    "import itertools\n",
    "import random\n",
    "%matplotlib inline"
   ]
  },
  {
   "cell_type": "code",
   "execution_count": 36,
   "metadata": {},
   "outputs": [],
   "source": [
    "def generate_colorimg(output):\n",
    "    colors = [[0, 0, 0], [0, 0, 255], [255, 0, 0], [0, 255, 0], [255, 255, 0], [0, 255, 255], [255, 0, 255], [255, 255, 255]]\n",
    "    _, height, width = output.shape\n",
    "    colorimg = np.zeros((height, width, 3), dtype=np.uint8)\n",
    "    #colorimg = np.full((height, width, 3), 255, dtype=np.uint8)\n",
    "    #colorimg = np.ones((masks.shape[1], masks.shape[2], 3), dtype=np.float32) * 255\n",
    "    for y in range(height):\n",
    "        for x in range(width):\n",
    "            selected_color = colors[output[0,y,x]]\n",
    "            colorimg[y,x,:] = selected_color\n",
    "    return tr.ToTensor()(colorimg.astype(np.uint8))"
   ]
  },
  {
   "cell_type": "code",
   "execution_count": 37,
   "metadata": {},
   "outputs": [],
   "source": [
    "def test_only(model, loader, criterion, cuda=False):\n",
    "    model.eval()\n",
    "    for batch_idx, image in tqdm(enumerate(loader)):\n",
    "        if cuda:\n",
    "            image = image.cuda()\n",
    "        with torch.no_grad():\n",
    "            image = Variable(image)\n",
    "            pred = model(image)\n",
    "            maxes, out = torch.max(pred, 1, keepdim=True)\n",
    "            \n",
    "        if (batch_idx == 1):\n",
    "            out[out == 1] = 2\n",
    "            out[:,:,:,120:240] = 1\n",
    "            \n",
    "        print(np.unique(out))\n",
    "        print(out)\n",
    "        save_image(image, './output/images/images-batch-{}.png'.format(batch_idx))\n",
    "        save_image(out, './output/predictions/outputs-batch-{}.png'.format(batch_idx), normalize=True)\n",
    "        new_outs = []\n",
    "        for o in out:\n",
    "            new_outs.append(generate_colorimg(o))\n",
    "        save_image(new_outs, './output/rgb-outs/rgb-batch-{}.png'.format(batch_idx))"
   ]
  },
  {
   "cell_type": "code",
   "execution_count": 38,
   "metadata": {},
   "outputs": [],
   "source": [
    "model = UNet(num_channels=1, num_classes=3)\n",
    "criterion = DICELossMultiClass()\n",
    "model.load_state_dict(torch.load('unet-multiclass-model-16-100-0.001', map_location='cpu'))"
   ]
  },
  {
   "cell_type": "code",
   "execution_count": 39,
   "metadata": {},
   "outputs": [
    {
     "name": "stdout",
     "output_type": "stream",
     "text": [
      "Test Data :  13\n"
     ]
    },
    {
     "name": "stderr",
     "output_type": "stream",
     "text": [
      "\n",
      "0it [00:00, ?it/s]"
     ]
    },
    {
     "name": "stdout",
     "output_type": "stream",
     "text": [
      "[0 1]\n",
      "tensor([[[[1, 1, 1,  ..., 1, 1, 1],\n",
      "          [1, 1, 1,  ..., 1, 1, 1],\n",
      "          [1, 1, 1,  ..., 1, 1, 1],\n",
      "          ...,\n",
      "          [1, 1, 1,  ..., 1, 1, 1],\n",
      "          [1, 1, 1,  ..., 1, 1, 1],\n",
      "          [1, 1, 1,  ..., 1, 1, 1]]],\n",
      "\n",
      "\n",
      "        [[[1, 1, 1,  ..., 1, 1, 1],\n",
      "          [1, 1, 1,  ..., 1, 1, 1],\n",
      "          [1, 1, 1,  ..., 1, 1, 1],\n",
      "          ...,\n",
      "          [1, 1, 1,  ..., 1, 1, 1],\n",
      "          [1, 1, 1,  ..., 1, 1, 1],\n",
      "          [1, 1, 1,  ..., 1, 1, 1]]],\n",
      "\n",
      "\n",
      "        [[[1, 1, 1,  ..., 1, 1, 1],\n",
      "          [1, 1, 1,  ..., 1, 1, 1],\n",
      "          [1, 1, 1,  ..., 1, 1, 1],\n",
      "          ...,\n",
      "          [1, 1, 1,  ..., 1, 1, 1],\n",
      "          [1, 1, 1,  ..., 1, 1, 1],\n",
      "          [1, 1, 1,  ..., 1, 1, 1]]],\n",
      "\n",
      "\n",
      "        [[[1, 1, 1,  ..., 1, 1, 1],\n",
      "          [1, 1, 1,  ..., 1, 1, 1],\n",
      "          [1, 1, 1,  ..., 1, 1, 1],\n",
      "          ...,\n",
      "          [1, 1, 1,  ..., 1, 1, 1],\n",
      "          [1, 1, 1,  ..., 1, 1, 1],\n",
      "          [1, 1, 1,  ..., 1, 1, 1]]]])\n"
     ]
    },
    {
     "name": "stderr",
     "output_type": "stream",
     "text": [
      "\n",
      "1it [00:19, 19.85s/it]"
     ]
    },
    {
     "name": "stdout",
     "output_type": "stream",
     "text": [
      "[0 1 2]\n",
      "tensor([[[[2, 2, 2,  ..., 2, 2, 2],\n",
      "          [2, 2, 2,  ..., 2, 2, 2],\n",
      "          [2, 2, 2,  ..., 2, 2, 2],\n",
      "          ...,\n",
      "          [2, 2, 2,  ..., 2, 2, 2],\n",
      "          [2, 2, 2,  ..., 2, 2, 2],\n",
      "          [2, 2, 2,  ..., 2, 2, 2]]],\n",
      "\n",
      "\n",
      "        [[[2, 2, 2,  ..., 2, 2, 2],\n",
      "          [2, 2, 2,  ..., 2, 2, 2],\n",
      "          [2, 2, 2,  ..., 2, 2, 2],\n",
      "          ...,\n",
      "          [2, 2, 2,  ..., 2, 2, 2],\n",
      "          [2, 2, 2,  ..., 2, 2, 2],\n",
      "          [2, 2, 2,  ..., 2, 2, 2]]],\n",
      "\n",
      "\n",
      "        [[[2, 2, 2,  ..., 2, 2, 2],\n",
      "          [2, 2, 2,  ..., 2, 2, 2],\n",
      "          [2, 2, 2,  ..., 2, 2, 2],\n",
      "          ...,\n",
      "          [2, 2, 2,  ..., 2, 2, 2],\n",
      "          [2, 2, 2,  ..., 2, 2, 2],\n",
      "          [2, 2, 2,  ..., 2, 2, 2]]],\n",
      "\n",
      "\n",
      "        [[[2, 2, 2,  ..., 2, 2, 2],\n",
      "          [2, 2, 2,  ..., 2, 2, 2],\n",
      "          [2, 2, 2,  ..., 2, 2, 2],\n",
      "          ...,\n",
      "          [2, 2, 2,  ..., 2, 2, 2],\n",
      "          [2, 2, 2,  ..., 2, 2, 2],\n",
      "          [2, 2, 2,  ..., 2, 2, 2]]]])\n"
     ]
    },
    {
     "name": "stderr",
     "output_type": "stream",
     "text": [
      "\n",
      "2it [00:36, 18.83s/it]"
     ]
    },
    {
     "name": "stdout",
     "output_type": "stream",
     "text": [
      "[0 1]\n",
      "tensor([[[[1, 1, 1,  ..., 1, 1, 1],\n",
      "          [1, 1, 1,  ..., 1, 1, 1],\n",
      "          [1, 1, 1,  ..., 1, 1, 1],\n",
      "          ...,\n",
      "          [1, 1, 1,  ..., 1, 1, 1],\n",
      "          [1, 1, 1,  ..., 1, 1, 1],\n",
      "          [1, 1, 1,  ..., 1, 1, 1]]],\n",
      "\n",
      "\n",
      "        [[[1, 1, 1,  ..., 1, 1, 1],\n",
      "          [1, 1, 1,  ..., 1, 1, 1],\n",
      "          [1, 1, 1,  ..., 1, 1, 1],\n",
      "          ...,\n",
      "          [1, 1, 1,  ..., 1, 1, 1],\n",
      "          [1, 1, 1,  ..., 1, 1, 1],\n",
      "          [1, 1, 1,  ..., 1, 1, 1]]],\n",
      "\n",
      "\n",
      "        [[[1, 1, 1,  ..., 1, 1, 1],\n",
      "          [1, 1, 1,  ..., 1, 1, 1],\n",
      "          [1, 1, 1,  ..., 1, 1, 1],\n",
      "          ...,\n",
      "          [1, 1, 1,  ..., 1, 1, 1],\n",
      "          [1, 1, 1,  ..., 1, 1, 1],\n",
      "          [1, 1, 1,  ..., 1, 1, 1]]],\n",
      "\n",
      "\n",
      "        [[[1, 1, 1,  ..., 1, 1, 1],\n",
      "          [1, 1, 1,  ..., 1, 1, 1],\n",
      "          [1, 1, 1,  ..., 1, 1, 1],\n",
      "          ...,\n",
      "          [1, 1, 1,  ..., 1, 1, 1],\n",
      "          [1, 1, 1,  ..., 1, 1, 1],\n",
      "          [1, 1, 1,  ..., 1, 1, 1]]]])\n"
     ]
    },
    {
     "name": "stderr",
     "output_type": "stream",
     "text": [
      "\n",
      "3it [00:52, 18.13s/it]"
     ]
    },
    {
     "name": "stdout",
     "output_type": "stream",
     "text": [
      "[0 1]\n",
      "tensor([[[[1, 1, 1,  ..., 1, 1, 1],\n",
      "          [1, 1, 1,  ..., 1, 1, 1],\n",
      "          [1, 1, 1,  ..., 1, 1, 1],\n",
      "          ...,\n",
      "          [1, 1, 1,  ..., 1, 1, 1],\n",
      "          [1, 1, 1,  ..., 1, 1, 1],\n",
      "          [1, 1, 1,  ..., 1, 1, 1]]]])\n"
     ]
    },
    {
     "name": "stderr",
     "output_type": "stream",
     "text": [
      "\n",
      "4it [00:57, 14.18s/it]"
     ]
    }
   ],
   "source": [
    "test_dataset = TestDataset('./Data/', im_size=[256, 256], transform=tr.ToTensor())\n",
    "test_loader = DataLoader(test_dataset, batch_size=4, shuffle=False, num_workers=1)\n",
    "print(\"Test Data : \", len(test_loader.dataset))\n",
    "test_only(model, test_loader, criterion)"
   ]
  },
  {
   "cell_type": "code",
   "execution_count": null,
   "metadata": {},
   "outputs": [],
   "source": []
  },
  {
   "cell_type": "code",
   "execution_count": null,
   "metadata": {},
   "outputs": [],
   "source": []
  },
  {
   "cell_type": "code",
   "execution_count": null,
   "metadata": {},
   "outputs": [],
   "source": []
  }
 ],
 "metadata": {
  "kernelspec": {
   "display_name": "pytorch_env",
   "language": "python",
   "name": "pytorch_env"
  },
  "language_info": {
   "codemirror_mode": {
    "name": "ipython",
    "version": 3
   },
   "file_extension": ".py",
   "mimetype": "text/x-python",
   "name": "python",
   "nbconvert_exporter": "python",
   "pygments_lexer": "ipython3",
   "version": "3.6.7"
  }
 },
 "nbformat": 4,
 "nbformat_minor": 2
}
