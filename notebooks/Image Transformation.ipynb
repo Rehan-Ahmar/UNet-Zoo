{
 "cells": [
  {
   "cell_type": "code",
   "execution_count": 2,
   "metadata": {},
   "outputs": [],
   "source": [
    "from tqdm import tqdm\n",
    "import numpy as np\n",
    "%matplotlib inline\n",
    "\n",
    "import argparse\n",
    "import matplotlib\n",
    "matplotlib.use('Agg')\n",
    "import matplotlib.pyplot as plt\n",
    "\n",
    "import torch\n",
    "import torch.nn as nn\n",
    "import torch.optim as optim\n",
    "from torch.autograd import Variable\n",
    "from torch.utils.data import DataLoader\n",
    "import torchvision.transforms as tr\n",
    "\n",
    "from data import BraTSDatasetUnet, BraTSDatasetLSTM\n",
    "from losses import DICELossMultiClass\n",
    "from models import UNet\n"
   ]
  },
  {
   "cell_type": "code",
   "execution_count": 4,
   "metadata": {},
   "outputs": [
    {
     "name": "stdout",
     "output_type": "stream",
     "text": [
      "Training Data :  305\n",
      "Test Data : 16\n"
     ]
    }
   ],
   "source": [
    "DATA_FOLDER = 'Data/'\n",
    "\n",
    "dset_train = BraTSDatasetUnet(DATA_FOLDER, train=True, keywords=['flair'], im_size=[1024, 1024], transform=tr.ToTensor())\n",
    "\n",
    "train_loader = DataLoader(dset_train, batch_size=4, shuffle=True, num_workers=1)\n",
    "\n",
    "dset_test = BraTSDatasetUnet(DATA_FOLDER, train=False, keywords=['flair'], im_size=[1024, 1024], transform=tr.ToTensor())\n",
    "\n",
    "test_loader = DataLoader(dset_test, batch_size=4, shuffle=False, num_workers=1)\n",
    "\n",
    "print(\"Training Data : \", len(train_loader.dataset))\n",
    "print(\"Test Data :\", len(test_loader.dataset))"
   ]
  },
  {
   "cell_type": "code",
   "execution_count": 4,
   "metadata": {},
   "outputs": [
    {
     "name": "stdout",
     "output_type": "stream",
     "text": [
      "torch.Size([4, 3, 1024, 1024]) torch.Size([4, 3, 1024, 1024])\n"
     ]
    },
    {
     "data": {
      "text/plain": [
       "<matplotlib.image.AxesImage at 0xd018a20e48>"
      ]
     },
     "execution_count": 4,
     "metadata": {},
     "output_type": "execute_result"
    },
    {
     "data": {
      "image/png": "[encoded data removed]",
      "text/plain": [
       "<Figure size 432x288 with 1 Axes>"
      ]
     },
     "metadata": {
      "needs_background": "light"
     },
     "output_type": "display_data"
    }
   ],
   "source": [
    "def reverse_transform(inp):\n",
    "    inp = inp.numpy().transpose((1, 2, 0))\n",
    "    inp = (inp * 255).astype(np.uint8)\n",
    "    return inp\n",
    "\n",
    "\n",
    "inputs, masks = next(iter(test_loader))\n",
    "\n",
    "print(inputs.shape, masks.shape)\n",
    "\n",
    "plt.imshow(reverse_transform(inputs[3]))"
   ]
  },
  {
   "cell_type": "code",
   "execution_count": 5,
   "metadata": {},
   "outputs": [],
   "source": [
    "from PIL import Image\n",
    "img = Image.fromarray(reverse_transform(inputs[3]), 'RGB')\n",
    "img.save('my.png')"
   ]
  },
  {
   "cell_type": "code",
   "execution_count": 6,
   "metadata": {},
   "outputs": [
    {
     "data": {
      "text/plain": [
       "<matplotlib.image.AxesImage at 0xd018b2e4a8>"
      ]
     },
     "execution_count": 6,
     "metadata": {},
     "output_type": "execute_result"
    },
    {
     "data": {
      "image/png": "[encoded data removed]",
      "text/plain": [
       "<Figure size 432x288 with 1 Axes>"
      ]
     },
     "metadata": {
      "needs_background": "light"
     },
     "output_type": "display_data"
    }
   ],
   "source": [
    "plt.imshow(reverse_transform(masks[3]))"
   ]
  },
  {
   "cell_type": "code",
   "execution_count": null,
   "metadata": {},
   "outputs": [],
   "source": []
  },
  {
   "cell_type": "code",
   "execution_count": 7,
   "metadata": {},
   "outputs": [
    {
     "data": {
      "text/plain": [
       "torch.Size([1, 1024, 1024])"
      ]
     },
     "execution_count": 7,
     "metadata": {},
     "output_type": "execute_result"
    }
   ],
   "source": [
    "from PIL import Image\n",
    "\n",
    "img = Image.open(r'D:\\Demos\\unet-demo\\WorkSpace\\UNet\\Data\\Test\\masked\\1538681125628_4739745.Lease Agreements. _001.png').convert('L')\n",
    "img.save('greyscale.png')\n",
    "resized_img = img.resize((1024, 1024))\n",
    "transform=tr.ToTensor()\n",
    "trans_img = transform(resized_img)\n",
    "trans_img.shape"
   ]
  },
  {
   "cell_type": "code",
   "execution_count": 9,
   "metadata": {},
   "outputs": [],
   "source": [
    "trans=tr.ToPILImage()\n",
    "trans(trans_img).save('back.png')\n"
   ]
  },
  {
   "cell_type": "code",
   "execution_count": null,
   "metadata": {},
   "outputs": [],
   "source": []
  },
  {
   "cell_type": "code",
   "execution_count": 46,
   "metadata": {},
   "outputs": [],
   "source": [
    "import os\n",
    "import cv2\n",
    "import math\n",
    "import numpy as np\n",
    "import pandas as pd\n",
    "import shutil"
   ]
  },
  {
   "cell_type": "code",
   "execution_count": null,
   "metadata": {},
   "outputs": [],
   "source": []
  },
  {
   "cell_type": "code",
   "execution_count": 58,
   "metadata": {},
   "outputs": [],
   "source": [
    "def dilate_text(input_file_path, output_file_path, xmin, ymin, xmax, ymax):\n",
    "    input = cv2.imread(input_file_path)\n",
    "    height, width, _ = input.shape\n",
    "    masked_image = np.zeros((height, width, 1), dtype=np.uint8)\n",
    "    color = 255\n",
    "    cv2.rectangle(masked_image, (xmin, ymin), (xmax, ymax), color, -1)\n",
    "    \n",
    "    image = cv2.imread(input_file_path)\n",
    "    gray = cv2.cvtColor(image, cv2.COLOR_BGR2GRAY)\n",
    "    _, thresh = cv2.threshold(gray, 150, 255, cv2.THRESH_BINARY_INV)\n",
    "    kernel = cv2.getStructuringElement(cv2.MORPH_CROSS, (3, 3))\n",
    "    roi = thresh[ymin:ymax, xmin:xmax]\n",
    "    roi[:] = cv2.dilate(roi, kernel, iterations=5)\n",
    "    \n",
    "    masked_image = cv2.bitwise_and(thresh, masked_image)\n",
    "    cv2.imwrite(output_file_path, masked_image)"
   ]
  },
  {
   "cell_type": "code",
   "execution_count": 59,
   "metadata": {},
   "outputs": [],
   "source": [
    "dilate_text(r'D:\\Demos\\unet-demo\\WorkSpace\\UNet Binary\\Data\\images\\1538681144691_682774.Option_Lease_Agreements._.TIF-7.png',\n",
    "                     r'D:\\Demos\\unet-demo\\WorkSpace\\UNet Binary\\Data\\z.png', 52,49,379,483)"
   ]
  },
  {
   "cell_type": "code",
   "execution_count": null,
   "metadata": {},
   "outputs": [],
   "source": [
    "#images/1538681144691_682774.Option_Lease_Agreements._.TIF-7.png,408,552,BT_Text,52,49,379,483\n",
    "#images/1538681144691_682774.Option_Lease_Agreements._.TIF-7.png,408,552,BT_Text,212,495,219,504"
   ]
  },
  {
   "cell_type": "code",
   "execution_count": null,
   "metadata": {},
   "outputs": [],
   "source": []
  },
  {
   "cell_type": "code",
   "execution_count": 62,
   "metadata": {},
   "outputs": [],
   "source": []
  },
  {
   "cell_type": "code",
   "execution_count": null,
   "metadata": {},
   "outputs": [],
   "source": []
  },
  {
   "cell_type": "code",
   "execution_count": 71,
   "metadata": {},
   "outputs": [],
   "source": [
    "def process_records_dilated(input_path):\n",
    "    records = pd.read_csv(os.path.join(input_path, 'train.csv'))\n",
    "    classes = records['class'].unique().tolist()\n",
    "    print(classes)\n",
    "    \n",
    "    masked_directory = os.path.join(input_path, 'dilated')\n",
    "    if os.path.exists(masked_directory):\n",
    "        shutil.rmtree(masked_directory)\n",
    "    os.makedirs(masked_directory)\n",
    "\n",
    "    grouped = records.groupby('filename')\n",
    "    for key, df_group in grouped:\n",
    "        image_path = os.path.join(input_path, key.strip())\n",
    "        if not os.path.isfile(image_path):\n",
    "            continue\n",
    "        filename = os.path.basename(image_path)\n",
    "        masked_img_path = os.path.join(masked_directory, filename)\n",
    "        \n",
    "        roi_list = []\n",
    "        for row_index, row in df_group.iterrows():\n",
    "            class_name = row[\"class\"].strip()\n",
    "            if class_name == 'BT_Text':\n",
    "                xmin = math.floor(float(row[\"xmin\"]))\n",
    "                ymin = math.floor(float(row[\"ymin\"]))\n",
    "                xmax = math.ceil(float(row[\"xmax\"]))\n",
    "                ymax = math.ceil(float(row[\"ymax\"]))\n",
    "                roi_list.append((xmin, ymin, xmax, ymax))\n",
    "\n",
    "        input_image = cv2.imread(image_path)\n",
    "        height, width, _ = input_image.shape\n",
    "        temp = np.zeros((height, width, 1), dtype=np.uint8)\n",
    "\n",
    "        gray = cv2.cvtColor(input_image, cv2.COLOR_BGR2GRAY)\n",
    "        _, thresh = cv2.threshold(gray, 150, 255, cv2.THRESH_BINARY_INV)\n",
    "        kernel = cv2.getStructuringElement(cv2.MORPH_CROSS, (3, 3))\n",
    "        \n",
    "        for (xmin, ymin, xmax, ymax) in roi_list:\n",
    "            cv2.rectangle(temp, (xmin, ymin), (xmax, ymax), 255, -1)\n",
    "\n",
    "            roi = thresh[ymin:ymax, xmin:xmax]\n",
    "            roi[:] = cv2.dilate(roi, kernel, iterations=5)\n",
    "        \n",
    "        masked_image = cv2.bitwise_and(thresh, temp)\n",
    "        cv2.imwrite(masked_img_path, masked_image)     "
   ]
  },
  {
   "cell_type": "code",
   "execution_count": 72,
   "metadata": {},
   "outputs": [
    {
     "name": "stdout",
     "output_type": "stream",
     "text": [
      "['BT_Text', 'BT_RasterPicture', 'BT_Table', 'BT_VectorPicture']\n"
     ]
    }
   ],
   "source": [
    "input_path = r'D:\\Demos\\unet-demo\\WorkSpace\\UNet Binary\\Data'\n",
    "process_records_dilated(input_path)"
   ]
  },
  {
   "cell_type": "code",
   "execution_count": null,
   "metadata": {},
   "outputs": [],
   "source": []
  },
  {
   "cell_type": "code",
   "execution_count": null,
   "metadata": {},
   "outputs": [],
   "source": []
  },
  {
   "cell_type": "code",
   "execution_count": 52,
   "metadata": {},
   "outputs": [],
   "source": [
    "def process_records_binary(input_path):\n",
    "    records = pd.read_csv(os.path.join(input_path, 'train.csv'))\n",
    "    classes = records['class'].unique().tolist()\n",
    "    print(classes)\n",
    "    \n",
    "    masked_directory = os.path.join(input_path, 'masked')\n",
    "    \n",
    "    if os.path.exists(masked_directory):\n",
    "        shutil.rmtree(masked_directory)\n",
    "    os.makedirs(masked_directory)\n",
    "    \n",
    "    for index, row in records.iterrows():\n",
    "        image_path = row[\"filename\"].strip()\n",
    "        image_path = os.path.join(input_path, image_path)\n",
    "        if not os.path.isfile(image_path):\n",
    "            continue\n",
    "        filename = os.path.basename(image_path)\n",
    "        masked_img_path = os.path.join(masked_directory, filename)\n",
    "        \n",
    "        if os.path.isfile(masked_img_path):\n",
    "            image = cv2.imread(masked_img_path, 0)\n",
    "        else:\n",
    "            input = cv2.imread(image_path)\n",
    "            height, width, _ = input.shape\n",
    "            image = np.zeros((height, width, 1), dtype=np.uint8)\n",
    "            #image = np.full((height, width, 3), 255, dtype=np.uint8)\n",
    "        \n",
    "        class_name = row[\"class\"].strip()\n",
    "        if class_name == 'BT_Text':\n",
    "            print('Processing record at index:', index)\n",
    "            color = 255\n",
    "            xmin = math.floor(float(row[\"xmin\"]))\n",
    "            ymin = math.floor(float(row[\"ymin\"]))\n",
    "            xmax = math.ceil(float(row[\"xmax\"]))\n",
    "            ymax = math.ceil(float(row[\"ymax\"]))\n",
    "            cv2.rectangle(image, (xmin, ymin), (xmax, ymax), color, -1)\n",
    "        cv2.imwrite(masked_img_path, image)"
   ]
  },
  {
   "cell_type": "code",
   "execution_count": 53,
   "metadata": {},
   "outputs": [
    {
     "name": "stdout",
     "output_type": "stream",
     "text": [
      "['BT_Text', 'BT_RasterPicture', 'BT_Table', 'BT_VectorPicture']\n",
      "Processing record at index: 324\n",
      "Processing record at index: 325\n",
      "Processing record at index: 326\n",
      "Processing record at index: 475\n",
      "Processing record at index: 476\n",
      "Processing record at index: 478\n",
      "Processing record at index: 479\n",
      "Processing record at index: 480\n",
      "Processing record at index: 1674\n",
      "Processing record at index: 1675\n",
      "Processing record at index: 1676\n",
      "Processing record at index: 1677\n",
      "Processing record at index: 1680\n",
      "Processing record at index: 1682\n",
      "Processing record at index: 1810\n",
      "Processing record at index: 1811\n",
      "Processing record at index: 3161\n",
      "Processing record at index: 3162\n",
      "Processing record at index: 6156\n",
      "Processing record at index: 6162\n",
      "Processing record at index: 6209\n",
      "Processing record at index: 6776\n",
      "Processing record at index: 6777\n",
      "Processing record at index: 6990\n",
      "Processing record at index: 6991\n",
      "Processing record at index: 6992\n",
      "Processing record at index: 6993\n",
      "Processing record at index: 6995\n",
      "Processing record at index: 6996\n",
      "Processing record at index: 7388\n",
      "Processing record at index: 7389\n",
      "Processing record at index: 7390\n",
      "Processing record at index: 7683\n",
      "Processing record at index: 7684\n",
      "Processing record at index: 7685\n",
      "Processing record at index: 7686\n",
      "Processing record at index: 7687\n",
      "Processing record at index: 7688\n",
      "Processing record at index: 7690\n",
      "Processing record at index: 7691\n",
      "Processing record at index: 7692\n",
      "Processing record at index: 7693\n",
      "Processing record at index: 7694\n",
      "Processing record at index: 7697\n",
      "Processing record at index: 7698\n"
     ]
    }
   ],
   "source": [
    "input_path = r'D:\\Demos\\unet-demo\\WorkSpace\\UNet Binary\\Data'\n",
    "process_records_binary(input_path)"
   ]
  },
  {
   "cell_type": "code",
   "execution_count": null,
   "metadata": {},
   "outputs": [],
   "source": []
  }
 ],
 "metadata": {
  "kernelspec": {
   "display_name": "pytorch_env",
   "language": "python",
   "name": "pytorch_env"
  },
  "language_info": {
   "codemirror_mode": {
    "name": "ipython",
    "version": 3
   },
   "file_extension": ".py",
   "mimetype": "text/x-python",
   "name": "python",
   "nbconvert_exporter": "python",
   "pygments_lexer": "ipython3",
   "version": "3.6.7"
  }
 },
 "nbformat": 4,
 "nbformat_minor": 2
}
